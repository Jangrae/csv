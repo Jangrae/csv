{
  "nbformat": 4,
  "nbformat_minor": 0,
  "metadata": {
    "colab": {
      "name": "02 데이터프레임 만들기.ipynb",
      "provenance": [],
      "collapsed_sections": [],
      "include_colab_link": true
    },
    "kernelspec": {
      "display_name": "Python 3",
      "language": "python",
      "name": "python3"
    },
    "language_info": {
      "codemirror_mode": {
        "name": "ipython",
        "version": 3
      },
      "file_extension": ".py",
      "mimetype": "text/x-python",
      "name": "python",
      "nbconvert_exporter": "python",
      "pygments_lexer": "ipython3",
      "version": "3.7.6"
    }
  },
  "cells": [
    {
      "cell_type": "markdown",
      "metadata": {
        "id": "view-in-github",
        "colab_type": "text"
      },
      "source": [
        "<a href=\"https://colab.research.google.com/github/Jangrae/csv/blob/master/02_%EB%8D%B0%EC%9D%B4%ED%84%B0%ED%94%84%EB%A0%88%EC%9E%84_%EB%A7%8C%EB%93%A4%EA%B8%B0.ipynb\" target=\"_parent\"><img src=\"https://colab.research.google.com/assets/colab-badge.svg\" alt=\"Open In Colab\"/></a>"
      ]
    },
    {
      "cell_type": "markdown",
      "metadata": {
        "id": "BFhIXgdYoYGp"
      },
      "source": [
        "<center><img src='https://raw.githubusercontent.com/Jangrae/img/master/title.png' width=500/></center>"
      ]
    },
    {
      "cell_type": "markdown",
      "metadata": {
        "id": "DFijIAllYnVQ"
      },
      "source": [
        "# 학습 목표\n",
        "\n",
        "- 리스트와 딕셔너리에서 데이터프레임을 만들 수 있습니다.\n",
        "- 파일에서 읽어와 데이터프레임을 만들 수 있습니다.\n",
        "- 임의의 값을 갖는 데이터프레임을 만들 수 있습니다.\n",
        "- 데이터프레임의 인덱스를 변경하거나 초기화 할 수 있습니다."
      ]
    },
    {
      "cell_type": "markdown",
      "metadata": {
        "id": "eYB1ZQpI7_sC"
      },
      "source": [
        "# 2. 데이터프레임 만들기"
      ]
    },
    {
      "cell_type": "markdown",
      "metadata": {
        "id": "qbRryf889VCF"
      },
      "source": [
        "## 2.1. 데이터프레임 이해"
      ]
    },
    {
      "cell_type": "markdown",
      "metadata": {
        "id": "gu7wwR069iwY"
      },
      "source": [
        "### 2.1.1. 데이터프레임이란\r\n",
        "\r\n",
        "\r\n",
        "- Pandas 사용 목적이 데이터프레임을 사용하기 위한 목적으로 봐도 됩니다.\r\n",
        "- 데이터를 처리, 조회, 분석하는 가장 효율적인 방법이 데이터프레임을 사용하는 것입니다.\r\n",
        "- 데이터프레임은 시리즈와는 달리 **하나 이상의 열**을 갖는 형태입니다.\r\n",
        "- 일반적으로 접하게 되는 **테이블** 형태, **엑셀** 형태로 생각하시면 됩니다.\r\n",
        "- 직접 만들 수 있으나 보통은 **csv 파일**, **엑셀 파일** 또는 DB에서 읽어옵니다."
      ]
    },
    {
      "cell_type": "markdown",
      "metadata": {
        "id": "VNBn3rh_7_sH"
      },
      "source": [
        "<img src='https://raw.githubusercontent.com/Jangrae/img/master/dataframe_sample.png' width=800 align=\"left\"/>"
      ]
    },
    {
      "cell_type": "markdown",
      "metadata": {
        "id": "9l6NOVnS9rZW"
      },
      "source": [
        "### 2.1.2. 데이터프레임 형태\r\n",
        "\r\n",
        "- 데이터프레임은 **인덱스(=행 이름)**와 **열 이름**이 있고 없고에 따라 다른 형태를 갖습니다.\r\n",
        "- 인덱스란 행을 지정할 때 사용하는 정보이고, 열 이름은 열을 지정할 때 사용하는 정보입니다."
      ]
    },
    {
      "cell_type": "markdown",
      "metadata": {
        "id": "zYkod1OZ-KDD"
      },
      "source": [
        "<img src='https://raw.githubusercontent.com/Jangrae/img/master/dataframe05.png' width=450 align=\"left\"/>"
      ]
    },
    {
      "cell_type": "markdown",
      "metadata": {
        "id": "o3tnJLJn_E0R"
      },
      "source": [
        "**1) 인덱스와 열 이름이 없는 형태**\r\n",
        "\r\n",
        "- 우선 인덱스와 열 이름이 없는 데이터프레임 형태입니다.\r\n",
        "- 열 이름이 없는 데이터프레임은 실무에서는 자주 볼 수 없을 것입니다."
      ]
    },
    {
      "cell_type": "markdown",
      "metadata": {
        "id": "y0YXQ9HX-pQe"
      },
      "source": [
        "<img src='https://raw.githubusercontent.com/Jangrae/img/master/dataframe01.png' width=380 align=\"left\"/>"
      ]
    },
    {
      "cell_type": "markdown",
      "metadata": {
        "id": "IeTHxeOH_Lmy"
      },
      "source": [
        "**2) 열 이름을 지정한 형태**\r\n",
        "\r\n",
        "- 열 이름만 지정한 데이터프레임 형태입니다.\r\n",
        "- 특별히 인덱스를 지정할 필요가 없는 경우가 많으므로 자주 보게 되는 형태입니다."
      ]
    },
    {
      "cell_type": "markdown",
      "metadata": {
        "id": "mgNuAxJT-wGE"
      },
      "source": [
        "<img src='https://raw.githubusercontent.com/Jangrae/img/master/dataframe02.png' width=380 align=\"left\"/>"
      ]
    },
    {
      "cell_type": "markdown",
      "metadata": {
        "id": "hOCC_U1w_Qnc"
      },
      "source": [
        "**3) 인덱스와 열 이름을 지정한 형태**\r\n",
        "\r\n",
        "- 인덱스와 열 이름 모두를 지정한 데이터프레임 형태입니다.\r\n",
        "- 대부분 주식 시세와 같은 날짜가 인덱스로 지정되는 경우입니다."
      ]
    },
    {
      "cell_type": "markdown",
      "metadata": {
        "id": "uq7TmduU-x5i"
      },
      "source": [
        "<img src='https://raw.githubusercontent.com/Jangrae/img/master/dataframe03.png' width=350 align=\"left\"/>"
      ]
    },
    {
      "cell_type": "markdown",
      "metadata": {
        "id": "c7syzx_xAU3P"
      },
      "source": [
        "**4) 문자열 데이터를 갖는 데이터프레임**\r\n",
        "\r\n",
        "- 대부분 분석 대상은 숫자일 것입니다.\r\n",
        "- 하지만 다음과 같이 문자열을 갖는 데이터프레임도 자주 접하게 됩니다."
      ]
    },
    {
      "cell_type": "markdown",
      "metadata": {
        "id": "xgKdx1KnAhVq"
      },
      "source": [
        "<img src='https://raw.githubusercontent.com/Jangrae/img/master/dataframe04.png' width=700 align=\"left\"/>"
      ]
    },
    {
      "cell_type": "markdown",
      "metadata": {
        "id": "ETVUejBgIJNL"
      },
      "source": [
        "## 2.2. 데이터프레임 직접 만들기\n",
        "\n",
        "- **pd.DataFrame()** 함수를 사용해 데이터프레임을 만듭니다.\n",
        "- 대부분 리스트, 딕셔너리, Numpy 배열로부터 데이터프레임을 만듭니다.\n",
        "- 데이터프레임은 여러 열을 가지므로 **인덱스** 외에도 **열 이름**에 대한 **설정**이 필요합니다.\n",
        "- 데이터프레임을 만들 때 **열 이름**을 직접 지정하거나, 나중에 변경할 수 있습니다.\n",
        "- 열 이름을 지정하지 않으면 **열 번호**에 기반한 정수(0, 1, 2...)가 열 이름이 됩니다.\n",
        "- 우선 다음과 같이 관련 라이브러리를 불러옵니다."
      ]
    },
    {
      "cell_type": "code",
      "metadata": {
        "id": "iyOaNXcnOW6J"
      },
      "source": [
        "# 라이브러리 불러오기\n",
        "import pandas as pd\n",
        "import numpy as np\n",
        "import matplotlib.pyplot as plt"
      ],
      "execution_count": null,
      "outputs": []
    },
    {
      "cell_type": "markdown",
      "metadata": {
        "id": "r04u5zL5IJNM"
      },
      "source": [
        "### 2.2.1. 리스트로  만들기\n",
        "\n",
        "- 인덱스를 지정하지 않으면 행 번호가 인덱스, 열 번호가 열 이름이 됩니다."
      ]
    },
    {
      "cell_type": "code",
      "metadata": {
        "id": "5dF7MDMy789A"
      },
      "source": [
        "# 리스트 만들기\n",
        "stock = [[94500, 92100, 92200, 92300],\n",
        "         [96500, 93200, 95900, 94300],\n",
        "         [93400, 91900, 93400, 92100],\n",
        "         [94200, 92100, 94100, 92400],\n",
        "         [94500, 92500, 94300, 92600]]\n",
        "\n",
        "# 데이터프레임 만들기\n",
        "df = pd.DataFrame(stock)\n",
        "\n",
        "# 확인\n",
        "df.head()"
      ],
      "execution_count": null,
      "outputs": []
    },
    {
      "cell_type": "markdown",
      "metadata": {
        "id": "yvPx1jl2IJNT"
      },
      "source": [
        "- 필요하면 인덱스와 열 이름을 별도로 지정할 수 있습니다."
      ]
    },
    {
      "cell_type": "code",
      "metadata": {
        "id": "_C8hqRoUAMUe"
      },
      "source": [
        "# 리스트 만들기\n",
        "stock = [[94500, 92100, 92200, 92300],\n",
        "         [96500, 93200, 95900, 94300],\n",
        "         [93400, 91900, 93400, 92100],\n",
        "         [94200, 92100, 94100, 92400],\n",
        "         [94500, 92500, 94300, 92600]]\n",
        "dates = ['2019-02-15', '2019-02-16', '2019-02-17', '2019-02-18', '2019-02-19']\n",
        "names = ['High', 'Low', 'Open', 'Close']\n",
        "\n",
        "# 데이터프레임 만들기\n",
        "df = pd.DataFrame(stock, index=dates, columns=names)\n",
        "\n",
        "# 확인\n",
        "df.head()"
      ],
      "execution_count": null,
      "outputs": []
    },
    {
      "cell_type": "markdown",
      "metadata": {
        "id": "OAikNLPcIJNm"
      },
      "source": [
        "### 2.2.2. 딕셔너리로 만들기\n",
        "\n",
        "- 딕셔너리로 데이터프레임을 만들면 딕셔너리의 **키**가 **열 이름**이 됩니다.\n",
        "- 인덱스를 지정하지 않으면 행 번호가 인덱스가 됩니다."
      ]
    },
    {
      "cell_type": "code",
      "metadata": {
        "id": "6LkPm72OYnVU"
      },
      "source": [
        "# 딕셔너리 만들기\n",
        "dict = {'이름': ['홍길동', '한사랑', '일지매', '박여인'],\n",
        "        '등급': ['Gold', 'Bronze', 'Silver', 'Gold'],\n",
        "        '점수': [56000, 23000, 44000, 52000]}\n",
        "\n",
        "# 확인\n",
        "dict"
      ],
      "execution_count": null,
      "outputs": []
    },
    {
      "cell_type": "code",
      "metadata": {
        "scrolled": true,
        "id": "zxpku5yMOW6u"
      },
      "source": [
        "# 데이터프레임 만들기\n",
        "df = pd.DataFrame(dict)\n",
        "\n",
        "# 확인\n",
        "df.head()"
      ],
      "execution_count": null,
      "outputs": []
    },
    {
      "cell_type": "markdown",
      "metadata": {
        "id": "cQv7wUpVIJNu"
      },
      "source": [
        "- 필요하면 인덱스를 별도로 지정할 수 있습니다."
      ]
    },
    {
      "cell_type": "code",
      "metadata": {
        "id": "tVcRYGYbIJNu",
        "scrolled": true
      },
      "source": [
        "# 딕셔너리 만들기\n",
        "dict = {\n",
        "   '이름': ['홍길동', '한사랑', '일지매', '박여인'],\n",
        "   '등급': ['Gold', 'Bronze', 'Silver', 'Gold'],\n",
        "   '점수': [56000, 23000, 44000, 52000]\n",
        "}\n",
        "\n",
        "# 데이터프레임 만들기(인덱스 지정함)\n",
        "df = pd.DataFrame(dict, index=['C0001', 'C0002', 'C0003', 'C0004'])\n",
        "\n",
        "# 확인\n",
        "df.head()"
      ],
      "execution_count": null,
      "outputs": []
    },
    {
      "cell_type": "markdown",
      "metadata": {
        "id": "j7yW5ESDDtkB"
      },
      "source": [
        "### 2.2.3. 배열로  만들기\r\n",
        "\r\n",
        "- 리스트 대신 배열을 사용해서 데이터프레임을 만들 수 있습니다."
      ]
    },
    {
      "cell_type": "code",
      "metadata": {
        "id": "y_HitSPgDUMx"
      },
      "source": [
        "# 배열 만들기\n",
        "stock = np.array([[94500, 92100, 92200, 92300],\n",
        "                  [96500, 93200, 95900, 94300],\n",
        "                  [93400, 91900, 93400, 92100],\n",
        "                  [94200, 92100, 94100, 92400],\n",
        "                  [94500, 92500, 94300, 92600]])\n",
        "dates = np.array(['2019-02-15', '2019-02-16', '2019-02-17', '2019-02-18', '2019-02-19'])\n",
        "names = np.array(['High', 'Low', 'Open', 'Close'])\n",
        "\n",
        "# 확인\n",
        "print(stock)\n",
        "print(dates)\n",
        "print(names)"
      ],
      "execution_count": null,
      "outputs": []
    },
    {
      "cell_type": "code",
      "metadata": {
        "id": "46V9AuV8FODQ"
      },
      "source": [
        "# 데이터프레임 만들기\n",
        "df = pd.DataFrame(stock, index=dates, columns=names)\n",
        "\n",
        "# 확인\n",
        "df.head()"
      ],
      "execution_count": null,
      "outputs": []
    },
    {
      "cell_type": "markdown",
      "metadata": {
        "id": "mHrKYYWip4Es"
      },
      "source": [
        "<img src='https://raw.githubusercontent.com/jangrae/img/master/practice_01.png' width=120 align=\"left\"/>"
      ]
    },
    {
      "cell_type": "markdown",
      "metadata": {
        "id": "zOc0Cz-C89nI"
      },
      "source": [
        "[문1] 아래 주어진 리스트들을 사용해 score 데이터프레임을 만들고 확인해 보세요."
      ]
    },
    {
      "cell_type": "code",
      "metadata": {
        "id": "dwA8ygir89nL"
      },
      "source": [
        "# 리스트 만들기\n",
        "list_score = [[80, 75, 100, 90, 80],\n",
        "              [85, 70,  80, 95, 90],\n",
        "              [75, 80,  85, 90, 90],\n",
        "              [85, 65,  85, 75, 70],\n",
        "              [70, 85,  90, 85, 95]]\n",
        "              \n",
        "# 인덱스: ['홍길동', '한사랑', '일지매', '박여인', '강우동']\n",
        "list_index = ['홍길동', '한사랑', '일지매', '박여인', '강우동']\n",
        "\n",
        "# 열이름: ['국어', '영어', '수학', '과학', '역사']\n",
        "list_col = ['국어', '영어', '수학', '과학', '역사']\n",
        "\n",
        "# 데이터프레임 만들기\n",
        "score = pd.DataFrame(list_score, index=list_index, columns=list_col)\n",
        "\n",
        "# 확인\n",
        "score"
      ],
      "execution_count": null,
      "outputs": []
    },
    {
      "cell_type": "markdown",
      "metadata": {
        "id": "zGDF1AkjIJOX"
      },
      "source": [
        "## 2.3. CSV파일 읽어오기\n",
        "\n",
        "- 분석용 데이터는 대부분 파일에서 읽어 가져옵니다.\n",
        "- **read_csv()** 함수를 사용해서 CSV 파일에서 데이터를 읽어옵니다."
      ]
    },
    {
      "cell_type": "markdown",
      "metadata": {
        "id": "gLqT0zwfLRwn"
      },
      "source": [
        "<img src='https://raw.githubusercontent.com/jangrae/img/master/titanic_simple.png' width=650 align=\"left\"/>"
      ]
    },
    {
      "cell_type": "markdown",
      "metadata": {
        "id": "bB26vSfGLJwX"
      },
      "source": [
        "**[주요옵션]**\n",
        "- sep: 구분자 지정(기본값 = 콤마)\n",
        "- header: 헤더가 될 행 번호 지정(기본값 = 0)\n",
        "- index_col: 인덱스 열 지정(기본값 = False)\n",
        "- names: 열 이름으로 사용할 문자열 리스트\n",
        "- skiprows: 처음 몇 줄을 무시할 것인지 지정, 리스트로 지정 가능"
      ]
    },
    {
      "cell_type": "code",
      "metadata": {
        "id": "DIY8NYXGIJOZ",
        "scrolled": false
      },
      "source": [
        "# Titanic 데이터 불러오기\n",
        "file_path = 'https://raw.githubusercontent.com/Jangrae/csv/master/titanic_simple.csv'\n",
        "titanic = pd.read_csv(file_path, sep = ',', header=0, index_col=False)  \n",
        "\n",
        "# 상위 20행만 확인\n",
        "titanic.head(20)"
      ],
      "execution_count": null,
      "outputs": []
    },
    {
      "cell_type": "markdown",
      "metadata": {
        "id": "YnaDv1c3pX3Y"
      },
      "source": [
        "**[참고] 엑셀 시트 읽기 & 쓰기**\n",
        "\n",
        "- 엑셀 시트는 **read_excel()** 함수를 사용해 읽어옵니다.\n",
        "- 엑셀 시트는 여러 형태를 가지므로 사용해야 할 옵션이 많을 수 있습니다."
      ]
    },
    {
      "cell_type": "markdown",
      "metadata": {
        "id": "nC5O_wx5rD0q"
      },
      "source": [
        "<img src='https://raw.githubusercontent.com/jangrae/img/master/excel.png' width=600 align=\"left\"/>"
      ]
    },
    {
      "cell_type": "code",
      "metadata": {
        "scrolled": false,
        "id": "9nekLZRsnLys"
      },
      "source": [
        "# 엑셀 시트 읽어오기\n",
        "sample = pd.read_excel('sample.xlsx',\n",
        "                       header=4, \n",
        "                       skiprows=[5], \n",
        "                       index_col=False, \n",
        "                       usecols=[1, 2, 3, 4, 5, 6],\n",
        "                       sheet_name='실적2')  \n",
        "\n",
        "# 확인\n",
        "sample.head(10)"
      ],
      "execution_count": null,
      "outputs": []
    },
    {
      "cell_type": "code",
      "metadata": {
        "scrolled": false,
        "id": "B0cMF2obx8Wm"
      },
      "source": [
        "# 엑셀 시트 쓰기\n",
        "sample.to_excel('sample2.xlsx')  "
      ],
      "execution_count": null,
      "outputs": []
    },
    {
      "cell_type": "code",
      "metadata": {
        "scrolled": false,
        "id": "rSKyGhWbynlA"
      },
      "source": [
        "# csv 파일 쓰기\n",
        "sample.to_csv('sample2.csv', encoding='CP949')  "
      ],
      "execution_count": null,
      "outputs": []
    },
    {
      "cell_type": "markdown",
      "metadata": {
        "id": "xSWBmU_Yeu5A"
      },
      "source": [
        "<img src='https://raw.githubusercontent.com/jangrae/img/master/practice_01.png' width=120 align=\"left\"/>"
      ]
    },
    {
      "cell_type": "markdown",
      "metadata": {
        "id": "5eXsOBxDqcoP"
      },
      "source": [
        "[문1] 아래 주어진 경로의 파일에서 데이터를 읽어와 데이터프레임 graduate 만들어 보세요.\n",
        "\n",
        "- 파일 경로: 'https://raw.githubusercontent.com/Jangrae/csv/master/Graduate_apply.csv'"
      ]
    },
    {
      "cell_type": "code",
      "metadata": {
        "id": "Oa9sLGQ8IJOb",
        "scrolled": false
      },
      "source": [
        "# graduate 데이터 불러오기\n",
        "file_path = 'https://raw.githubusercontent.com/Jangrae/csv/master/Graduate_apply.csv'\n",
        "graduate = pd.read_csv(file_path, sep = ',', header=0, index_col=False)  \n",
        "graduate.head(10)\n",
        "\n",
        "# 확인\n",
        "graduate.head()"
      ],
      "execution_count": null,
      "outputs": []
    },
    {
      "cell_type": "markdown",
      "metadata": {
        "id": "OOyO1KvldQUh"
      },
      "source": [
        "[문2] 아래 주어진 경로의 stock.csv 파일을 읽어와 stock 데이터프레임을 만들어 보세요.\n",
        "\n",
        "- 파일 경로: 'https://raw.githubusercontent.com/Jangrae/csv/master/stock.csv'"
      ]
    },
    {
      "cell_type": "code",
      "metadata": {
        "scrolled": false,
        "id": "UmooiWmRdQUj"
      },
      "source": [
        "# stock 데이터 불러오기\n",
        "file_path = 'https://raw.githubusercontent.com/Jangrae/csv/master/stock.csv'\n",
        "stock = pd.read_csv(file_path, sep = ',', header=0, index_col=False)  \n",
        "\n",
        "# 확인\n",
        "stock.head()"
      ],
      "execution_count": null,
      "outputs": []
    },
    {
      "cell_type": "markdown",
      "metadata": {
        "id": "Lv5DeZMzp6mr"
      },
      "source": [
        "## 2.4. 임의의 값을 갖는 데이터프레임 만들기\n",
        "\n",
        "- 테스트용 데이터프레임을 만들 때 많이 사용하니 익혀두는 것이 좋습니다."
      ]
    },
    {
      "cell_type": "markdown",
      "metadata": {
        "id": "iDdxKRKw2Sku"
      },
      "source": [
        "**[참고] 난수 발생 방법**\n",
        "\n",
        "- random.**rand()**: 0부터 1사이의 균일 분포 임의 실수\n",
        "- random.**randn()**: 가우시안 표준 정규 분포 임의 실수\n",
        "- random.**randint()**: 균일 분포의 임의 정수"
      ]
    },
    {
      "cell_type": "markdown",
      "metadata": {
        "id": "irzIW1wcIJOo"
      },
      "source": [
        "**1) 임의의 실수값**\n",
        "\n",
        "- 일정 기간의 날짜 데이터를 만들어 내는 **date_range()** 함수도 기억하기 바랍니다."
      ]
    },
    {
      "cell_type": "code",
      "metadata": {
        "id": "GeDtWx3SHco_"
      },
      "source": [
        "# 2020-02-01 부터 날짜 10개 확인\r\n",
        "pd.date_range('20200201', periods=10)"
      ],
      "execution_count": null,
      "outputs": []
    },
    {
      "cell_type": "code",
      "metadata": {
        "id": "RBwz2q_EHD8c"
      },
      "source": [
        "# 임의의 실수를 갖는 10 x 4 형태의 2차원 배열 확인\r\n",
        "np.random.randn(10, 4)"
      ],
      "execution_count": null,
      "outputs": []
    },
    {
      "cell_type": "markdown",
      "metadata": {
        "id": "-l4l6vo4Hh1g"
      },
      "source": [
        "- 함수들 기능을 확인했으니 이제 데이터프레임을 만들어봅니다."
      ]
    },
    {
      "cell_type": "code",
      "metadata": {
        "id": "O3iY6NpZp5_k"
      },
      "source": [
        "# 2020-02-01 부터 날짜 10개 만들기\n",
        "dates = pd.date_range('20200201', periods=10)\n",
        "\n",
        "# 임의의 실수를 갖는 10 x 4 형태의 2차원 배열 만들기\n",
        "nums = np.random.randn(10, 4)\n",
        "\n",
        "# 데이터프레임 만들기\n",
        "df = pd.DataFrame(nums, index=dates, columns=list('ABCD'))\n",
        "\n",
        "# 확인\n",
        "df.head(10)"
      ],
      "execution_count": null,
      "outputs": []
    },
    {
      "cell_type": "markdown",
      "metadata": {
        "id": "Pns7D5fKIJOs"
      },
      "source": [
        "**2) 임의의 정수값**\r\n",
        "\r\n",
        "- 임의 정수를 만들 때는 적절한 범위를 지정해야 합니다."
      ]
    },
    {
      "cell_type": "code",
      "metadata": {
        "id": "80cz5kFXHyxV"
      },
      "source": [
        "# 지정한 범위 내의 임의의 정수를 갖는 10 x 4 형태의 2차원 배열 확인\r\n",
        "np.random.randint(100000, 200000, size=(10, 4))"
      ],
      "execution_count": null,
      "outputs": []
    },
    {
      "cell_type": "markdown",
      "metadata": {
        "id": "0Qk0OPt3IOGb"
      },
      "source": [
        "- 이제 데이터프레임을 만들어봅니다."
      ]
    },
    {
      "cell_type": "code",
      "metadata": {
        "id": "0un0nA-vqILp"
      },
      "source": [
        "# 2020-02-01 부터 10개이 날짜 만들기\n",
        "dates = pd.date_range('20200201', periods=10)\n",
        "\n",
        "# 지정한 범위 내의 임의의 정수를 갖는 10 x 4 형태의 2차원 배열 만들기\n",
        "nums = np.random.randint(100000, 200000, size=(10, 4))\n",
        "\n",
        "# 열 이름으로 사용할 리스트 만들기\n",
        "cols = ['col1', 'col2', 'col3', 'col4']\n",
        "\n",
        "# 데이터프레임 만들기\n",
        "df = pd.DataFrame(nums, index=dates, columns=cols)\n",
        "\n",
        "# 확인\n",
        "df.head(10)"
      ],
      "execution_count": null,
      "outputs": []
    },
    {
      "cell_type": "markdown",
      "metadata": {
        "id": "taC_061cIJOx"
      },
      "source": [
        "## 2.5. 인덱스 다시 설정\n",
        "\n",
        "- 일반 열을 인덱스 열로 설정하거나, 위치 인덱스로 초기화 할 수 있습니다."
      ]
    },
    {
      "cell_type": "code",
      "metadata": {
        "id": "3jg1iaYOmcl_"
      },
      "source": [
        "# stock 데이터 불러오기\n",
        "file_path = 'https://raw.githubusercontent.com/jangrae/csv/master/stock.csv'\n",
        "stock = pd.read_csv(file_path, sep = ',')  \n",
        "\n",
        "# 확인\n",
        "stock.head()"
      ],
      "execution_count": null,
      "outputs": []
    },
    {
      "cell_type": "markdown",
      "metadata": {
        "id": "atOZO4zakLOc"
      },
      "source": [
        "**1) 일반 열을 인덱스로 지정**\n",
        "\n",
        "- 파일을 불러올 때 **index_col** 옵션을 사용해 인덱스가 될 열을 선택할 수 있습니다.\n",
        "- 파일을 불러온 후에 **set_index()** 메소드를 사용해 인덱스가 될 열을 설정할 수 있습니다."
      ]
    },
    {
      "cell_type": "code",
      "metadata": {
        "id": "lZPICPMAmvxD"
      },
      "source": [
        "# 기존 열 중에서 인덱스가 될 열 선택\n",
        "stock.set_index('Date', inplace=True)\n",
        "\n",
        "# 확인\n",
        "stock.head()"
      ],
      "execution_count": null,
      "outputs": []
    },
    {
      "cell_type": "markdown",
      "metadata": {
        "id": "2rdGVeQ-QK_e"
      },
      "source": [
        "**2) 인덱스 이름 삭제**"
      ]
    },
    {
      "cell_type": "code",
      "metadata": {
        "id": "_6a3Z_YtPwED"
      },
      "source": [
        "# 인덱스 이름 삭제\n",
        "stock.index.name = None\n",
        "\n",
        "# 확인\n",
        "stock.head()"
      ],
      "execution_count": null,
      "outputs": []
    },
    {
      "cell_type": "markdown",
      "metadata": {
        "id": "6YBSTyDhlGnS"
      },
      "source": [
        "**3) 인덱스 초기화**\n",
        "\n",
        "- **reset_index()** 메소드를 사용해 행 번호에 기반한 정수 값으로 인덱스를 초기화 할 수 있습니다.\n",
        "- **drop=True**를 설정하면 기존 인덱스 열을 일반 열로 가져오지 않고 버립니다.(기본값=False)"
      ]
    },
    {
      "cell_type": "code",
      "metadata": {
        "id": "cmHauKBZnFNS"
      },
      "source": [
        "# 인덱스 초기화\n",
        "stock.reset_index(drop=False, inplace=True)\n",
        "\n",
        "# 확인\n",
        "stock.head()"
      ],
      "execution_count": null,
      "outputs": []
    },
    {
      "cell_type": "markdown",
      "metadata": {
        "id": "0HIv2VMIQnYb"
      },
      "source": [
        "- 열 이름 변경"
      ]
    },
    {
      "cell_type": "code",
      "metadata": {
        "id": "zfWeMsPvQSRw"
      },
      "source": [
        "# 열 이름 변경\n",
        "stock.rename(columns={'index': 'Date'}, inplace=True)\n",
        "\n",
        "# 확인\n",
        "stock.head()"
      ],
      "execution_count": null,
      "outputs": []
    },
    {
      "cell_type": "markdown",
      "metadata": {
        "id": "yohTkqw2ex7e"
      },
      "source": [
        "<img src='https://raw.githubusercontent.com/jangrae/img/master/practice_01.png' width=120 align=\"left\"/>"
      ]
    },
    {
      "cell_type": "markdown",
      "metadata": {
        "id": "NqG5hTOrqjpi"
      },
      "source": [
        "[문1] 아래 주어진 데이터프레임을 확인하고, 이어지는 셀에 코드를 완성해 보세요."
      ]
    },
    {
      "cell_type": "code",
      "metadata": {
        "id": "cATzMkRgX5p8"
      },
      "source": [
        "# 데이터프레임 만들기\n",
        "dates = pd.date_range('20200201', periods=10)\n",
        "nums = np.random.randn(10, 4)\n",
        "df = pd.DataFrame(nums, index=dates, columns=list('ABCD'))\n",
        "\n",
        "# 확인\n",
        "df.head()"
      ],
      "execution_count": null,
      "outputs": []
    },
    {
      "cell_type": "code",
      "metadata": {
        "id": "D-X_tx_cYnfj"
      },
      "source": [
        "# 인덱스 초기화\n",
        "df.reset_index(drop=False, inplace=True)\n",
        "\n",
        "# 확인\n",
        "df.head()"
      ],
      "execution_count": null,
      "outputs": []
    },
    {
      "cell_type": "code",
      "metadata": {
        "id": "RnPMufha44kk"
      },
      "source": [
        "# 날짜 열 이름을 Date로 변경\n",
        "df.rename(columns={'index': 'Date'}, inplace=True)\n",
        "\n",
        "# 확인\n",
        "df.head()"
      ],
      "execution_count": null,
      "outputs": []
    },
    {
      "cell_type": "code",
      "metadata": {
        "id": "QdC8wQLEYr2w"
      },
      "source": [
        "# 인덱스를 날짜 데이터가 있는 열로 다시 변경\n",
        "df.set_index('Date', inplace=True)\n",
        "\n",
        "# 확인\n",
        "df.head()"
      ],
      "execution_count": null,
      "outputs": []
    },
    {
      "cell_type": "code",
      "metadata": {
        "id": "8ymSLbqjOW8K"
      },
      "source": [
        "# 인덱스 이름 삭제\n",
        "df.index.name = None\n",
        "\n",
        "# 확인\n",
        "df.head()"
      ],
      "execution_count": null,
      "outputs": []
    },
    {
      "cell_type": "markdown",
      "metadata": {
        "id": "zPb7_mq4od5p"
      },
      "source": [
        "<center><img src='https://raw.githubusercontent.com/Jangrae/img/master/end.png' width=300/></center>"
      ]
    }
  ]
}